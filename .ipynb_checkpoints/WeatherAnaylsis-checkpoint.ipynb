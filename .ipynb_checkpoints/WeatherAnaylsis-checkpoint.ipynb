{
 "cells": [
  {
   "cell_type": "code",
   "execution_count": 14,
   "id": "ae4df4ae-fcfb-40e0-bc8a-cda78c3ce969",
   "metadata": {},
   "outputs": [],
   "source": [
    "import requests\n",
    "from bs4 import BeautifulSoup"
   ]
  },
  {
   "cell_type": "code",
   "execution_count": 16,
   "id": "7e4bfccd-5e2e-478a-a07f-0a6401c0457b",
   "metadata": {},
   "outputs": [
    {
     "name": "stdin",
     "output_type": "stream",
     "text": [
      "Enter The City Name: Jhargram\n"
     ]
    }
   ],
   "source": [
    "city = \"Bhubaneswar\"\n",
    "\n",
    "url = \"https://www.google.com/search?q=\"+\"weather\"+city\n",
    "\n",
    "html = requests.get(url).content\n",
    "\n",
    "soup = BeautifulSoup(html, 'html.parser')"
   ]
  },
  {
   "cell_type": "code",
   "execution_count": 17,
   "id": "629fe713-1dfa-49f1-94e8-c3878193c655",
   "metadata": {},
   "outputs": [],
   "source": [
    "temp = soup.find('div', attrs={'class': 'BNeawe iBp4i AP7Wnd'}).text\n",
    "\n",
    "str = soup.find('div', attrs={'class': 'BNeawe tAd8D AP7Wnd'}).text\n",
    "\n",
    "data = str.split('\\n')\n",
    "time = data[0]\n",
    "sky = data[1]"
   ]
  },
  {
   "cell_type": "code",
   "execution_count": 18,
   "id": "9644560c-2315-407d-a5b1-35419d796552",
   "metadata": {},
   "outputs": [],
   "source": [
    "listdiv = soup.findAll('div', attrs={'class': 'BNeawe s3v9rd AP7Wnd'})\n",
    "\n",
    "strd = listdiv[5].text\n",
    "\n",
    "pos = strd.find('Wind')\n",
    "other_data = strd[pos:]"
   ]
  },
  {
   "cell_type": "code",
   "execution_count": 19,
   "id": "15f51186-3635-4af6-aea9-e465a812efe4",
   "metadata": {},
   "outputs": [
    {
     "name": "stdout",
     "output_type": "stream",
     "text": [
      "Temperature is 33°C\n",
      "Time:  Thursday 4:55 pm\n",
      "Sky Description:  Cloudy\n",
      ".\n"
     ]
    }
   ],
   "source": [
    "print(\"Temperature is\", temp)\n",
    "print(\"Time: \", time)\n",
    "print(\"Sky Description: \", sky)\n",
    "print(other_data)"
   ]
  },
  {
   "cell_type": "code",
   "execution_count": 20,
   "id": "dd25b326-eda4-4d86-9d48-60547434c609",
   "metadata": {},
   "outputs": [
    {
     "name": "stdout",
     "output_type": "stream",
     "text": [
      "Current Location: Bhubaneswar\n",
      "Weather report: Bhubaneswar\n",
      "\n",
      "                Haze\n",
      "  \u001b[38;5;251m _ - _ - _ - \u001b[0m \u001b[38;5;208m+32\u001b[0m(\u001b[38;5;202m35\u001b[0m) °C\u001b[0m     \n",
      "  \u001b[38;5;251m  _ - _ - _  \u001b[0m \u001b[1m↓\u001b[0m \u001b[38;5;154m7\u001b[0m km/h\u001b[0m       \n",
      "  \u001b[38;5;251m _ - _ - _ - \u001b[0m 5 km\u001b[0m           \n",
      "                0.0 mm\u001b[0m         \n",
      "                                                       ┌─────────────┐                                                       \n",
      "┌──────────────────────────────┬───────────────────────┤  Thu 19 Sep ├───────────────────────┬──────────────────────────────┐\n",
      "│            Morning           │             Noon      └──────┬──────┘     Evening           │             Night            │\n",
      "├──────────────────────────────┼──────────────────────────────┼──────────────────────────────┼──────────────────────────────┤\n",
      "│ \u001b[38;5;226m    \\   /    \u001b[0m Sunny          │ \u001b[38;5;226m   \\  /\u001b[0m       Partly Cloudy  │ \u001b[38;5;226m   \\  /\u001b[0m       Partly Cloudy  │ \u001b[38;5;226m   \\  /\u001b[0m       Partly Cloudy  │\n",
      "│ \u001b[38;5;226m     .-.     \u001b[0m \u001b[38;5;208m+31\u001b[0m(\u001b[38;5;202m35\u001b[0m) °C\u001b[0m     │ \u001b[38;5;226m _ /\"\"\u001b[38;5;250m.-.    \u001b[0m \u001b[38;5;202m+34\u001b[0m(\u001b[38;5;196m38\u001b[0m) °C\u001b[0m     │ \u001b[38;5;226m _ /\"\"\u001b[38;5;250m.-.    \u001b[0m \u001b[38;5;214m+29\u001b[0m(\u001b[38;5;208m32\u001b[0m) °C\u001b[0m     │ \u001b[38;5;226m _ /\"\"\u001b[38;5;250m.-.    \u001b[0m \u001b[38;5;220m+27\u001b[0m(\u001b[38;5;214m30\u001b[0m) °C\u001b[0m     │\n",
      "│ \u001b[38;5;226m  ― (   ) ―  \u001b[0m \u001b[1m↓\u001b[0m \u001b[38;5;154m9\u001b[0m-\u001b[38;5;190m10\u001b[0m km/h\u001b[0m    │ \u001b[38;5;226m   \\_\u001b[38;5;250m(   ).  \u001b[0m \u001b[1m↓\u001b[0m \u001b[38;5;190m10\u001b[0m-\u001b[38;5;190m11\u001b[0m km/h\u001b[0m   │ \u001b[38;5;226m   \\_\u001b[38;5;250m(   ).  \u001b[0m \u001b[1m↖\u001b[0m \u001b[38;5;190m11\u001b[0m-\u001b[38;5;220m19\u001b[0m km/h\u001b[0m   │ \u001b[38;5;226m   \\_\u001b[38;5;250m(   ).  \u001b[0m \u001b[1m↑\u001b[0m \u001b[38;5;154m8\u001b[0m-\u001b[38;5;226m13\u001b[0m km/h\u001b[0m    │\n",
      "│ \u001b[38;5;226m     `-’     \u001b[0m 10 km\u001b[0m          │ \u001b[38;5;226m   /\u001b[38;5;250m(___(__) \u001b[0m 10 km\u001b[0m          │ \u001b[38;5;226m   /\u001b[38;5;250m(___(__) \u001b[0m 10 km\u001b[0m          │ \u001b[38;5;226m   /\u001b[38;5;250m(___(__) \u001b[0m 10 km\u001b[0m          │\n",
      "│ \u001b[38;5;226m    /   \\    \u001b[0m 0.0 mm | 0%\u001b[0m    │               0.0 mm | 0%\u001b[0m    │               0.0 mm | 0%\u001b[0m    │               0.0 mm | 0%\u001b[0m    │\n",
      "└──────────────────────────────┴──────────────────────────────┴──────────────────────────────┴──────────────────────────────┘\n",
      "                                                       ┌─────────────┐                                                       \n",
      "┌──────────────────────────────┬───────────────────────┤  Fri 20 Sep ├───────────────────────┬──────────────────────────────┐\n",
      "│            Morning           │             Noon      └──────┬──────┘     Evening           │             Night            │\n",
      "├──────────────────────────────┼──────────────────────────────┼──────────────────────────────┼──────────────────────────────┤\n",
      "│ \u001b[38;5;226m _`/\"\"\u001b[38;5;250m.-.    \u001b[0m Patchy rain ne…│ \u001b[38;5;226m _`/\"\"\u001b[38;5;250m.-.    \u001b[0m Patchy rain ne…│ \u001b[38;5;226m    \\   /    \u001b[0m Clear          │ \u001b[38;5;226m   \\  /\u001b[0m       Partly Cloudy  │\n",
      "│ \u001b[38;5;226m  ,\\_\u001b[38;5;250m(   ).  \u001b[0m \u001b[38;5;208m+32\u001b[0m(\u001b[38;5;196m38\u001b[0m) °C\u001b[0m     │ \u001b[38;5;226m  ,\\_\u001b[38;5;250m(   ).  \u001b[0m \u001b[38;5;202m+34\u001b[0m(\u001b[38;5;196m41\u001b[0m) °C\u001b[0m     │ \u001b[38;5;226m     .-.     \u001b[0m \u001b[38;5;214m+28\u001b[0m(\u001b[38;5;208m33\u001b[0m) °C\u001b[0m     │ \u001b[38;5;226m _ /\"\"\u001b[38;5;250m.-.    \u001b[0m \u001b[38;5;220m+27\u001b[0m(\u001b[38;5;208m31\u001b[0m) °C\u001b[0m     │\n",
      "│ \u001b[38;5;226m   /\u001b[38;5;250m(___(__) \u001b[0m \u001b[1m↙\u001b[0m \u001b[38;5;118m6\u001b[0m-\u001b[38;5;154m8\u001b[0m km/h\u001b[0m     │ \u001b[38;5;226m   /\u001b[38;5;250m(___(__) \u001b[0m \u001b[1m←\u001b[0m \u001b[38;5;118m6\u001b[0m-\u001b[38;5;154m8\u001b[0m km/h\u001b[0m     │ \u001b[38;5;226m  ― (   ) ―  \u001b[0m \u001b[1m↑\u001b[0m \u001b[38;5;190m12\u001b[0m-\u001b[38;5;214m21\u001b[0m km/h\u001b[0m   │ \u001b[38;5;226m   \\_\u001b[38;5;250m(   ).  \u001b[0m \u001b[1m↑\u001b[0m \u001b[38;5;154m9\u001b[0m-\u001b[38;5;220m16\u001b[0m km/h\u001b[0m    │\n",
      "│ \u001b[38;5;111m     ‘ ‘ ‘ ‘ \u001b[0m 9 km\u001b[0m           │ \u001b[38;5;111m     ‘ ‘ ‘ ‘ \u001b[0m 10 km\u001b[0m          │ \u001b[38;5;226m     `-’     \u001b[0m 10 km\u001b[0m          │ \u001b[38;5;226m   /\u001b[38;5;250m(___(__) \u001b[0m 10 km\u001b[0m          │\n",
      "│ \u001b[38;5;111m    ‘ ‘ ‘ ‘  \u001b[0m 0.9 mm | 100%\u001b[0m  │ \u001b[38;5;111m    ‘ ‘ ‘ ‘  \u001b[0m 0.1 mm | 100%\u001b[0m  │ \u001b[38;5;226m    /   \\    \u001b[0m 0.0 mm | 0%\u001b[0m    │               0.0 mm | 0%\u001b[0m    │\n",
      "└──────────────────────────────┴──────────────────────────────┴──────────────────────────────┴──────────────────────────────┘\n",
      "                                                       ┌─────────────┐                                                       \n",
      "┌──────────────────────────────┬───────────────────────┤  Sat 21 Sep ├───────────────────────┬──────────────────────────────┐\n",
      "│            Morning           │             Noon      └──────┬──────┘     Evening           │             Night            │\n",
      "├──────────────────────────────┼──────────────────────────────┼──────────────────────────────┼──────────────────────────────┤\n",
      "│ \u001b[38;5;226m    \\   /    \u001b[0m Sunny          │ \u001b[38;5;226m   \\  /\u001b[0m       Partly Cloudy  │ \u001b[38;5;226m _`/\"\"\u001b[38;5;250m.-.    \u001b[0m Patchy rain ne…│ \u001b[38;5;226m    \\   /    \u001b[0m Clear          │\n",
      "│ \u001b[38;5;226m     .-.     \u001b[0m \u001b[38;5;208m+32\u001b[0m(\u001b[38;5;196m38\u001b[0m) °C\u001b[0m     │ \u001b[38;5;226m _ /\"\"\u001b[38;5;250m.-.    \u001b[0m \u001b[38;5;202m+35\u001b[0m(\u001b[38;5;196m41\u001b[0m) °C\u001b[0m     │ \u001b[38;5;226m  ,\\_\u001b[38;5;250m(   ).  \u001b[0m \u001b[38;5;214m+29\u001b[0m(\u001b[38;5;202m34\u001b[0m) °C\u001b[0m     │ \u001b[38;5;226m     .-.     \u001b[0m \u001b[38;5;220m+27\u001b[0m(\u001b[38;5;208m31\u001b[0m) °C\u001b[0m     │\n",
      "│ \u001b[38;5;226m  ― (   ) ―  \u001b[0m \u001b[1m↙\u001b[0m \u001b[38;5;118m5\u001b[0m km/h\u001b[0m       │ \u001b[38;5;226m   \\_\u001b[38;5;250m(   ).  \u001b[0m \u001b[1m↙\u001b[0m \u001b[38;5;154m8\u001b[0m-\u001b[38;5;154m9\u001b[0m km/h\u001b[0m     │ \u001b[38;5;226m   /\u001b[38;5;250m(___(__) \u001b[0m \u001b[1m↑\u001b[0m \u001b[38;5;190m11\u001b[0m-\u001b[38;5;220m19\u001b[0m km/h\u001b[0m   │ \u001b[38;5;226m  ― (   ) ―  \u001b[0m \u001b[1m↑\u001b[0m \u001b[38;5;190m10\u001b[0m-\u001b[38;5;220m18\u001b[0m km/h\u001b[0m   │\n",
      "│ \u001b[38;5;226m     `-’     \u001b[0m 10 km\u001b[0m          │ \u001b[38;5;226m   /\u001b[38;5;250m(___(__) \u001b[0m 10 km\u001b[0m          │ \u001b[38;5;111m     ‘ ‘ ‘ ‘ \u001b[0m 9 km\u001b[0m           │ \u001b[38;5;226m     `-’     \u001b[0m 10 km\u001b[0m          │\n",
      "│ \u001b[38;5;226m    /   \\    \u001b[0m 0.0 mm | 0%\u001b[0m    │               0.0 mm | 0%\u001b[0m    │ \u001b[38;5;111m    ‘ ‘ ‘ ‘  \u001b[0m 0.2 mm | 100%\u001b[0m  │ \u001b[38;5;226m    /   \\    \u001b[0m 0.0 mm | 0%\u001b[0m    │\n",
      "└──────────────────────────────┴──────────────────────────────┴──────────────────────────────┴──────────────────────────────┘\n",
      "Location: Bhubaneswar, Khordha, Odisha, 751001, India [20.2603328,85.8393432]\n",
      "\n",
      "Follow \u001b[46m\u001b[30m@igor_chubin\u001b[0m for wttr.in updates\n",
      "\n"
     ]
    }
   ],
   "source": [
    "import requests\n",
    "\n",
    "res = requests.get('https://ipinfo.io/')\n",
    "data = res.json()  \n",
    "\n",
    "citydata = data['city']\n",
    "print(\"Current Location:\", citydata)\n",
    "\n",
    "url = 'https://wttr.in/{}'.format(citydata)\n",
    "res = requests.get(url)\n",
    "\n",
    "print(res.text)\n"
   ]
  }
 ],
 "metadata": {
  "kernelspec": {
   "display_name": "Python 3 (ipykernel)",
   "language": "python",
   "name": "python3"
  },
  "language_info": {
   "codemirror_mode": {
    "name": "ipython",
    "version": 3
   },
   "file_extension": ".py",
   "mimetype": "text/x-python",
   "name": "python",
   "nbconvert_exporter": "python",
   "pygments_lexer": "ipython3",
   "version": "3.12.2"
  }
 },
 "nbformat": 4,
 "nbformat_minor": 5
}

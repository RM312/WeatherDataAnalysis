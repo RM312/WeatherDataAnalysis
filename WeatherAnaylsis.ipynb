{
 "cells": [
  {
   "cell_type": "code",
   "execution_count": 17,
   "id": "ae4df4ae-fcfb-40e0-bc8a-cda78c3ce969",
   "metadata": {},
   "outputs": [],
   "source": [
    "#Importing necessary Libraries\n",
    "import requests\n",
    "from PIL import Image\n",
    "from io import BytesIO"
   ]
  },
  {
   "cell_type": "code",
   "execution_count": 18,
   "id": "7e4bfccd-5e2e-478a-a07f-0a6401c0457b",
   "metadata": {},
   "outputs": [],
   "source": [
    "#Function to get location details\n",
    "def get_weather_for_location(city):\n",
    "    try:\n",
    "        api_key = \"API_KEY",
    "        url = f\"https://api.openweathermap.org/data/2.5/weather?q={city}&appid={api_key}&units=metric\"\n",
    "        response = requests.get(url)\n",
    "        response.raise_for_status()  \n",
    "        \n",
    "        data = response.json()\n",
    "        \n",
    "        temperature = data['main']['temp']\n",
    "        weather_info = data['weather'][0]\n",
    "        weather_description = weather_info['description']\n",
    "        additional_info = f\"Humidity: {data['main']['humidity']}%, Wind Speed: {data['wind']['speed']} m/s\"\n",
    "        \n",
    "        return city, temperature, weather_description, additional_info\n",
    "    except requests.RequestException as e:\n",
    "        print(f\"Error fetching data: {e}\")\n",
    "        return None\n",
    "    except KeyError as e:\n",
    "        print(f\"Error parsing data: {e}\")\n",
    "        return None\n",
    "    except Exception as e:\n",
    "        print(f\"An unexpected error occurred: {e}\")\n",
    "        return None"
   ]
  },
  {
   "cell_type": "code",
   "execution_count": 19,
   "id": "629fe713-1dfa-49f1-94e8-c3878193c655",
   "metadata": {},
   "outputs": [],
   "source": [
    "#Function to find the weather image wrt to weather\n",
    "def get_weather_image(weather):\n",
    "    weather = weather.lower()\n",
    "    if \"clear\" in weather:\n",
    "        return \"https://ssl.gstatic.com/onebox/weather/64/sunny.png\"\n",
    "    elif \"cloud\" in weather:\n",
    "        return \"https://ssl.gstatic.com/onebox/weather/64/partly_cloudy.png\"\n",
    "    elif \"rain\" in weather:\n",
    "        return \"https://ssl.gstatic.com/onebox/weather/64/rain_light.png\"\n",
    "    elif \"snow\" in weather:\n",
    "        return \"https://ssl.gstatic.com/onebox/weather/64/snow_light.png\"\n",
    "    elif \"storm\" in weather:\n",
    "        return \"https://ssl.gstatic.com/onebox/weather/64/thunderstorms.png\"\n",
    "    elif \"fog\" in weather or \"mist\" in weather:\n",
    "        return \"https://ssl.gstatic.com/onebox/weather/64/fog.png\"\n",
    "    else:\n",
    "        return \"https://ssl.gstatic.com/onebox/weather/64/partly_cloudy.png\""
   ]
  },
  {
   "cell_type": "code",
   "execution_count": 20,
   "id": "9644560c-2315-407d-a5b1-35419d796552",
   "metadata": {},
   "outputs": [],
   "source": [
    "#Function to show the Weather Image\n",
    "def show_weather_image(url):\n",
    "    response = requests.get(url)\n",
    "    img = Image.open(BytesIO(response.content))\n",
    "    img.show()"
   ]
  },
  {
   "cell_type": "code",
   "execution_count": 21,
   "id": "15f51186-3635-4af6-aea9-e465a812efe4",
   "metadata": {},
   "outputs": [],
   "source": [
    "def main():\n",
    "    city = input(\"Enter The City Name: \").strip().capitalize()\n",
    "    \n",
    "    result = get_weather_for_location(city)\n",
    "    \n",
    "    if result is not None:\n",
    "        location, temperature, weather_description, additional_info = result\n",
    "        weather_image_url = get_weather_image(weather_description)\n",
    "        \n",
    "        print(f\"Weather details for {location}:\")\n",
    "        print(f\"🌡️ Temperature: {temperature} °C\")\n",
    "        print(f\"☁️ Weather: {weather_description}\")\n",
    "        print(f\"💨 {additional_info}\")\n",
    "        \n",
    "        # Show the weather image directly\n",
    "        show_weather_image(weather_image_url)\n",
    "    else:\n",
    "        print(\"Failed to retrieve data. Please check the city name and try again.\")"
   ]
  },
  {
   "cell_type": "code",
   "execution_count": 22,
   "id": "dd25b326-eda4-4d86-9d48-60547434c609",
   "metadata": {},
   "outputs": [
    {
     "name": "stdout",
     "output_type": "stream",
     "text": [
      "Weather details for Delhi:\n",
      "🌡️ Temperature: 31.05 °C\n",
      "☁️ Weather: haze\n",
      "💨 Humidity: 45%, Wind Speed: 5.14 m/s\n"
     ]
    }
   ],
   "source": [
    "if __name__ == \"__main__\":\n",
    "    main()"
   ]
  },
  {
   "cell_type": "code",
   "execution_count": null,
   "id": "c2292a50",
   "metadata": {},
   "outputs": [],
   "source": []
  }
 ],
 "metadata": {
  "kernelspec": {
   "display_name": "Python 3",
   "language": "python",
   "name": "python3"
  },
  "language_info": {
   "codemirror_mode": {
    "name": "ipython",
    "version": 3
   },
   "file_extension": ".py",
   "mimetype": "text/x-python",
   "name": "python",
   "nbconvert_exporter": "python",
   "pygments_lexer": "ipython3",
   "version": "3.12.2"
  }
 },
 "nbformat": 4,
 "nbformat_minor": 5
}
